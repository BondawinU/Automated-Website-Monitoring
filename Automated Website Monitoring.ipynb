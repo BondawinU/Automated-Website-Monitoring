{
 "cells": [
  {
   "cell_type": "code",
   "execution_count": 14,
   "id": "b99b0b05-6481-44bb-b484-7e99dfd3c494",
   "metadata": {},
   "outputs": [
    {
     "name": "stdout",
     "output_type": "stream",
     "text": [
      "                         Name\n",
      "0  https://www.tagesschau.de/\n",
      "1     https://www.google.com/\n",
      "2     https://www.wetter.com/\n",
      "3  https://www.instagram.com/\n",
      "4   https://www.linkedin.com/\n",
      "200\n"
     ]
    }
   ],
   "source": [
    "import requests\n",
    "import pandas as pd\n",
    "\n",
    "df = pd.read_excel('Websites.xlsx')\n",
    "print(df)\n",
    "\n",
    "response = requests.get('https://www.google.com/')\n",
    "print(response.status_code)"
   ]
  },
  {
   "cell_type": "code",
   "execution_count": 16,
   "id": "79e1c24f-0c18-4760-8480-eb50b5ee4e22",
   "metadata": {},
   "outputs": [
    {
     "name": "stdout",
     "output_type": "stream",
     "text": [
      "0 Name    https://www.tagesschau.de/\n",
      "Name: 0, dtype: object\n",
      "1 Name    https://www.google.com/\n",
      "Name: 1, dtype: object\n",
      "2 Name    https://www.wetter.com/\n",
      "Name: 2, dtype: object\n",
      "3 Name    https://www.instagram.com/\n",
      "Name: 3, dtype: object\n",
      "4 Name    https://www.linkedin.com/\n",
      "Name: 4, dtype: object\n"
     ]
    }
   ],
   "source": [
    "df = pd.read_excel('Websites.xlsx')\n",
    "\n",
    "for index, websites in df.iterrows():\n",
    "    print(index, websites)"
   ]
  },
  {
   "cell_type": "code",
   "execution_count": 18,
   "id": "dbe2a171-7914-45f4-8f80-9e89cef6c008",
   "metadata": {},
   "outputs": [
    {
     "name": "stdout",
     "output_type": "stream",
     "text": [
      "0 https://www.tagesschau.de/\n",
      "1 https://www.google.com/\n",
      "2 https://www.wetter.com/\n",
      "3 https://www.instagram.com/\n",
      "4 https://www.linkedin.com/\n"
     ]
    }
   ],
   "source": [
    "df = pd.read_excel('Websites.xlsx')\n",
    "\n",
    "for index, websites in df.iterrows():\n",
    "    print(index, websites[\"Name\"])"
   ]
  },
  {
   "cell_type": "code",
   "execution_count": 20,
   "id": "68151b7f-7f70-492a-81fb-60610c2bf0c7",
   "metadata": {},
   "outputs": [
    {
     "name": "stdout",
     "output_type": "stream",
     "text": [
      "0 https://www.tagesschau.de/\n",
      "200\n",
      "1 https://www.google.com/\n",
      "200\n",
      "2 https://www.wetter.com/\n",
      "200\n",
      "3 https://www.instagram.com/\n",
      "200\n",
      "4 https://www.linkedin.com/\n",
      "200\n"
     ]
    }
   ],
   "source": [
    "df = pd.read_excel('Websites.xlsx')\n",
    "\n",
    "for index, websites in df.iterrows():\n",
    "    print(index, websites[\"Name\"])\n",
    "\n",
    "    response = requests.get(websites[\"Name\"])\n",
    "    print(response.status_code)"
   ]
  },
  {
   "cell_type": "code",
   "execution_count": 28,
   "id": "432b23d8-2e19-4f2f-9f99-d38f5cb8761c",
   "metadata": {},
   "outputs": [
    {
     "name": "stdout",
     "output_type": "stream",
     "text": [
      "0 https://www.tagesschau.de/\n",
      "200\n",
      "1 https://www.google.com/\n",
      "200\n",
      "2 https://www.wetter.com/\n",
      "200\n",
      "3 https://www.instagram.com/\n",
      "200\n",
      "4 https://www.linkedin.com/\n",
      "200\n",
      "5 https://www.somewebsite.com\n",
      "The website https://www.somewebsite.com is not available! \n"
     ]
    }
   ],
   "source": [
    "df = pd.read_excel('Websites.xlsx')\n",
    "\n",
    "for index, websites in df.iterrows():\n",
    "    print(index, websites[\"Name\"])\n",
    "\n",
    "    try:\n",
    "        response = requests.get(websites[\"Name\"])\n",
    "        print(response.status_code)\n",
    "    except:\n",
    "        print(\"The website {} is not available! \".format(websites[\"Name\"]))"
   ]
  },
  {
   "cell_type": "code",
   "execution_count": 32,
   "id": "e2502b1d-3f9a-4784-9e71-2f3124d18ee7",
   "metadata": {},
   "outputs": [
    {
     "name": "stdout",
     "output_type": "stream",
     "text": [
      "                          Name                status_code\n",
      "0   https://www.tagesschau.de/                      200.0\n",
      "1      https://www.google.com/                      200.0\n",
      "2      https://www.wetter.com/                      200.0\n",
      "3   https://www.instagram.com/                      200.0\n",
      "4    https://www.linkedin.com/                      200.0\n",
      "5  https://www.somewebsite.com  Website is not available!\n"
     ]
    },
    {
     "name": "stderr",
     "output_type": "stream",
     "text": [
      "C:\\Users\\philw\\AppData\\Local\\Temp\\ipykernel_25804\\3452599857.py:9: FutureWarning: Setting an item of incompatible dtype is deprecated and will raise an error in a future version of pandas. Value 'Website is not available!' has dtype incompatible with float64, please explicitly cast to a compatible dtype first.\n",
      "  df.at[index, \"status_code\"] = \"Website is not available!\"\n"
     ]
    }
   ],
   "source": [
    "df = pd.read_excel('Websites.xlsx')\n",
    "\n",
    "for index, websites in df.iterrows():\n",
    "\n",
    "    try:\n",
    "        response = requests.get(websites[\"Name\"])\n",
    "        df.at[index, \"status_code\"] = response.status_code\n",
    "    except:\n",
    "        df.at[index, \"status_code\"] = \"Website is not available!\"\n",
    "\n",
    "print(df)"
   ]
  },
  {
   "cell_type": "code",
   "execution_count": 36,
   "id": "84bd57dd-a352-4fb7-987e-770c0ff3c046",
   "metadata": {},
   "outputs": [
    {
     "name": "stdout",
     "output_type": "stream",
     "text": [
      "                          Name                status_code\n",
      "0   https://www.tagesschau.de/                        200\n",
      "1      https://www.google.com/                        200\n",
      "2      https://www.wetter.com/                        200\n",
      "3   https://www.instagram.com/                        200\n",
      "4    https://www.linkedin.com/                        200\n",
      "5  https://www.somewebsite.com  Website is not available!\n"
     ]
    }
   ],
   "source": [
    "df = pd.read_excel('Websites.xlsx')\n",
    "\n",
    "df['status_code'] = None\n",
    "\n",
    "for index, websites in df.iterrows():\n",
    "\n",
    "    try:\n",
    "        response = requests.get(websites[\"Name\"])\n",
    "        df.at[index, \"status_code\"] = response.status_code\n",
    "    except:\n",
    "        df.at[index, \"status_code\"] = \"Website is not available!\"\n",
    "\n",
    "print(df)"
   ]
  },
  {
   "cell_type": "code",
   "execution_count": null,
   "id": "0ed3e75c-6c87-46f1-8ff8-5fa5dfe8c964",
   "metadata": {},
   "outputs": [],
   "source": []
  }
 ],
 "metadata": {
  "kernelspec": {
   "display_name": "Python 3 (ipykernel)",
   "language": "python",
   "name": "python3"
  },
  "language_info": {
   "codemirror_mode": {
    "name": "ipython",
    "version": 3
   },
   "file_extension": ".py",
   "mimetype": "text/x-python",
   "name": "python",
   "nbconvert_exporter": "python",
   "pygments_lexer": "ipython3",
   "version": "3.12.4"
  }
 },
 "nbformat": 4,
 "nbformat_minor": 5
}
